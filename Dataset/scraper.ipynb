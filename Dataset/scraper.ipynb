{
 "cells": [
  {
   "cell_type": "code",
   "execution_count": 1,
   "id": "88874254",
   "metadata": {},
   "outputs": [
    {
     "name": "stderr",
     "output_type": "stream",
     "text": [
      "\n",
      "\n",
      "====== WebDriver manager ======\n",
      "Current google-chrome version is 101.0.4951\n",
      "Get LATEST chromedriver version for 101.0.4951 google-chrome\n",
      "Driver [C:\\Users\\rakshit\\.wdm\\drivers\\chromedriver\\win32\\101.0.4951.41\\chromedriver.exe] found in cache\n",
      "C:\\Users\\rakshit\\AppData\\Local\\Temp/ipykernel_11080/3115658877.py:7: DeprecationWarning: executable_path has been deprecated, please pass in a Service object\n",
      "  driver = webdriver.Chrome(ChromeDriverManager().install())\n"
     ]
    }
   ],
   "source": [
    "import time\n",
    "\n",
    "from selenium import webdriver\n",
    "from bs4 import BeautifulSoup\n",
    "from webdriver_manager.chrome import ChromeDriverManager\n",
    "\n",
    "driver = webdriver.Chrome(ChromeDriverManager().install())\n",
    "\n",
    "\n",
    "\n",
    "driver.get(\"https://www.codechef.com/tags/problems/dynamic-programming\")\n",
    "\n",
    "time.sleep(5)\n",
    "\n",
    "html = driver.page_source\n",
    "soup = BeautifulSoup(html, 'html.parser')\n",
    "all_ques_div = soup.findAll(\"div\", {\"class\": \"problem-tagbox-inner\"})\n",
    "\n",
    "all_ques = []\n",
    "\n",
    "for ques in all_ques_div:\n",
    "\tall_ques.append(ques.findAll(\"div\")[0].find(\"a\"))\n",
    "\n",
    "urls = []\n",
    "titles = []\n",
    "\n",
    "for ques in all_ques:\n",
    "\turls.append(\"https://www.codechef.com\"+ques['href'])\n",
    "\ttitles.append(ques.text)\n",
    "\n",
    "with open(\"problem_urls.txt\", \"w+\") as f:\n",
    "\tf.write('\\n'.join(urls))\n",
    "\n",
    "with open(\"problem_titles.txt\", \"w+\") as f:\n",
    "\tf.write('\\n'.join(titles))\n",
    "\n",
    "\n",
    "# cnt=0\n",
    "# for url in urls:\n",
    "# \tdriver.get(url)\n",
    "# \tcnt+=1\n",
    "# \ttime.sleep(5)\n",
    "# \thtml = driver.page_source\n",
    "# \tsoup = BeautifulSoup(html, 'html.parser')\n",
    "# \tproblem_text = soup.find('div', {\"class\": \"problem-statement\"}).get_text()\n",
    "# \t# print(problem_text)\n",
    "# \tproblem_text = problem_text.encode(\"utf-8\")\n",
    "# \tproblem_text = str(problem_text)\n",
    "\t\n",
    "# \twith open(\"problem\"+str(cnt)+\".txt\", \"w+\") as f:\n",
    "# \t\tf.write(problem_text)"
   ]
  },
  {
   "cell_type": "code",
   "execution_count": null,
   "id": "5a74d029",
   "metadata": {},
   "outputs": [],
   "source": []
  },
  {
   "cell_type": "code",
   "execution_count": null,
   "id": "cc59c1c1",
   "metadata": {},
   "outputs": [],
   "source": []
  },
  {
   "cell_type": "code",
   "execution_count": null,
   "id": "e98fdaac",
   "metadata": {},
   "outputs": [],
   "source": []
  },
  {
   "cell_type": "code",
   "execution_count": null,
   "id": "305ad0bb",
   "metadata": {},
   "outputs": [],
   "source": []
  },
  {
   "cell_type": "code",
   "execution_count": null,
   "id": "3f568d0e",
   "metadata": {},
   "outputs": [],
   "source": []
  }
 ],
 "metadata": {
  "kernelspec": {
   "display_name": "Python 3 (ipykernel)",
   "language": "python",
   "name": "python3"
  },
  "language_info": {
   "codemirror_mode": {
    "name": "ipython",
    "version": 3
   },
   "file_extension": ".py",
   "mimetype": "text/x-python",
   "name": "python",
   "nbconvert_exporter": "python",
   "pygments_lexer": "ipython3",
   "version": "3.9.7"
  }
 },
 "nbformat": 4,
 "nbformat_minor": 5
}
